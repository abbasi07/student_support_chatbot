{
 "cells": [
  {
   "cell_type": "markdown",
   "metadata": {},
   "source": [
    "# Student Support Chatbot"
   ]
  },
  {
   "cell_type": "markdown",
   "metadata": {},
   "source": [
    "Set envirnment variables"
   ]
  },
  {
   "cell_type": "code",
   "execution_count": 1,
   "metadata": {},
   "outputs": [],
   "source": [
    "# import OPENAI API Key\n",
    "import os\n",
    "from dotenv import load_dotenv\n",
    "\n",
    "load_dotenv()\n",
    "OPENAI_API_KEY = os.getenv(\"OPENAI_API_KEY\")\n",
    "ACTIVELOOP_TOKEN = os.getenv(\"ACTIVELOOP_TOKEN\")"
   ]
  },
  {
   "cell_type": "code",
   "execution_count": 2,
   "metadata": {},
   "outputs": [],
   "source": [
    "# import necessary libraries\n",
    "from langchain.embeddings.openai import OpenAIEmbeddings\n",
    "from langchain.vectorstores import DeepLake\n",
    "from langchain.text_splitter import CharacterTextSplitter\n",
    "from langchain import OpenAI\n",
    "from langchain.document_loaders import SeleniumURLLoader\n",
    "from langchain import PromptTemplate"
   ]
  },
  {
   "cell_type": "code",
   "execution_count": 3,
   "metadata": {},
   "outputs": [],
   "source": [
    "# Add urls from IUB website\n",
    "urls = ['https://iub.edu.pk/faculty-of-engineering-technology',\n",
    "        'https://iub.edu.pk/department-of-electronics-engineering?f_id=MQ==',\n",
    "        'https://iub.edu.pk/faculty-electronic-engineering',\n",
    "        'https://iub.edu.pk/outcome-based-education',\n",
    "        'https://iub.edu.pk/curriculum',\n",
    "        'https://iub.edu.pk/laboratories',\n",
    "        'https://iub.edu.pk/industrial-linkage'\n",
    "        ]"
   ]
  },
  {
   "cell_type": "code",
   "execution_count": 4,
   "metadata": {},
   "outputs": [],
   "source": [
    "# Let's split the documents into chuncks and compute their embeddings\n",
    "loader = SeleniumURLLoader(urls=urls)\n",
    "docs_not_splitted = loader.load()"
   ]
  },
  {
   "cell_type": "code",
   "execution_count": 14,
   "metadata": {},
   "outputs": [
    {
     "data": {
      "text/plain": [
       "Document(page_content=\"About\\n\\nAbout University\\n\\nBahawalpur - The City\\n\\nVice Chancellor Message\\n\\nVision & Mission\\n\\nRankings\\n\\nGovernance\\n\\nFormer Vice Chancellors\\n\\nNotable Alumni\\n\\nAdministration\\n\\nVice Chancellor Office\\n\\nRegistrar Office\\n\\nAccounts Division\\n\\nAudit Division\\n\\nDirectorate of Outreach, Communications and Public Relations\\n\\nDirectorate of IT\\n\\nDirectorate of Engineering\\n\\nDirectorate of Academics\\n\\nDirectorate of Affiliation\\n\\nDirectorate of Alumni Affairs\\n\\nDirectorate of AS&RB\\n\\nDirectorate of Culture and Heritage Research Center (CHRC)\\n\\nDirectorate of Financial Assistance\\n\\nDirectorate of International Linkages\\n\\nDirectorate of Land Records\\n\\nDirectorate of Planning and Development\\n\\nDirectorate of Private Students\\n\\nDirectorate of QEC\\n\\nDirectorate of Sports\\n\\nDirectorate of Student Affairs\\n\\nDirectorate of Sustainable Tourism\\n\\nLibrary\\n\\nSenior Tutor Office\\n\\nExecutive Training Center\\n\\nOffice of Research, Innovation and Commercialization\\n\\nMedical and Health Division\\n\\nSecurity Systems Division\\n\\nUniversity Guest House\\n\\nMotor Transport Division\\n\\nAcademics\\n\\nFaculties & Departments\\n\\nAcademic Programs\\n\\nUniversity Colleges\\n\\nResearch\\n\\nJournals\\n\\nChairs\\n\\nScholarships\\n\\nAcademic Calendar\\n\\nAdmissions\\n\\nWhy IUB?\\n\\nAdmissions\\n\\nImportant Dates\\n\\nEligibility Criteria\\n\\nMerit Determination\\n\\nReserved Seats\\n\\nHow to Apply Admission / Test\\n\\nFaq's\\n\\nAdmission Queries / Contact\\n\\nCampuses\\n\\nAbbasia Campus\\n\\nBaghdad-ul-Jadeed Campus\\n\\nKhawaja Fareed Campus\\n\\nBahawalnagar Campus\\n\\nRahim Yar Khan Campus\\n\\nCampus Life\\n\\nIUB Student Societies\\n\\nCultural Festivals\\n\\nCampus Facilities\\n\\nUniversity Transport\\n\\nSports and Physical Activities\\n\\nEvents and Days Celebrations\\n\\nResidential and Hostel Facilities\\n\\nSpecial Students Facilitation Center\\n\\nStudent Support\\n\\nQuick Links\\n\\nORIC\\n\\nMy IUB\\n\\nEportal\\n\\nITS\\n\\nGallery\\n\\nNews Cuts\\n\\nBooks Corner\\n\\nJinnah Corner\\n\\nTenders\\n\\nCareers\\n\\nDownloads\\n\\nContact Us\\n\\n\\n\\n\\n\\n\\n\\n\\n\\n\\n\\n\\n\\nORIC\\n\\nMy IUB\\n\\nEportal\\n\\nITS\\n\\nGallery\\n\\nNews Cuts\\n\\nBooks Corner\\n\\nJinnah Corner\\n\\nTenders\\n\\nCareers\\n\\nDownloads\\n\\nContact Us\\n\\nAbout#THEIUBThe Islamia University of Bahawalpur is a public sector university in Bahawalpur, Pakistan, which was originally established by His Highness Nawab Sir Sadiq Muhammad Khan Abbasi - V as the Jamia Abbasia in 1925.Read more Vice Chancellor Message Vision & Mission Rankings Governance Bahawalpur - The City Former Vice Chancellors Notable Alumni University - ACT 1975\\n\\nAdministration#WeAreIUBA Vice Chancellor's Secretariat is also functioning in the IUB to extend multiple services to the Public, students, faculty members and employees of the University. As it is under the direct supervision of the Vice Chancellor, it has to form policy matters of the IUB and monitor the implementation of the same.View All Vice Chancellor Office Registrar Office Accounts Division Audit Division Examination Division Directorate of IT Directorate of Outreach, Communications and Public Relations Directorate of Engineering Medical and Health Division Security Systems Division\\n\\nAcademicsAcademicsThe office also coordinates with teaching departments for review and update of infrastructure including laboratories and classrooms, planning and execution of trainings for faculty, and internships / teachingRead more Faculties & Departments University Colleges Chairs Research journals Scholarships Academic Calendar\\n\\nAdmissions#WhyIUBBahawalpur has always been a seat of higher learning. Uch Sharif (a nearby ancient town) had one of the largest universities in the world where scholars from all over the world used to come for studies.Read more Admissions Fee Structure Eligibility Criteria Important Dates Merit Determination Merit Lists Faq's Reserved Seats How to Apply Admission / Test Admission Queries / Contact\\n\\nCampusesAbbasia CampusA Historical building was initially constructed by His Highness Nawab Sir Sadiq Muhammad Khan Abbasi – V in the heart of the city near Government Sadiq Egerton College at University Chowk, Bahawalpur, to impart higher education in 1950.Read moreBahawalnagar CampusThe Islamia University of Bahawalpur established Bahawalnagar Sub-Campus in 2005. The Campus is located on Minchanabad road Bahawalnagar scattered over 50 acres of land.Read moreRahimyarkhan CampusThe Islamia University of Bahawalpur established Rahim Yar Khan Sub-Campus in 2005. The Campus is located on Abu Dhabi Road Rahim Yar Khan scattered over 80 acres of land.Read moreAll CampusesInitially university started at the Abbasia Campus and Khawaja Farid Campus with ten departments. Later, 1280 acres of landRead more\\n\\nCampus Life#IUBIANSThe Islamia University of Bahawalpur is a public sector university in Bahawalpur, Pakistan, which was originally established by His Highness Nawab Sir Sadiq Muhammad Khan Abbasi - V as the Jamia Abbasia in 1925.Read more IUB Student Societies Cultural Festivals Campus Facilities Sports and Physical Activities Residential and Hostel Facilities University Transport Events and Days Celebrations Special Students Facilitation Center Student Support\\n\\nPublicationsApril - July 2021 Corps Commander Bahawalpur visits the Islamia University of Bahawalpur | National Seminar on Food Security | IUB and Sichuan Agriculture University’s Project included in the CPEC | IUB announces Scholarahips for the Children of Martyrs of Bahawalpur PoliceRead moreJunuary - March 2021Honourable Chief Minister Punjab visits IUB stalls at Bahawalpur Trade Fair | Federal Minister of State Zartaj Gul visits IUB | Ground Breaking Ceremony of 2.5 MW Solar Park at IUB Read moreOctober - December 2020Federal Minister for National Food Security Visits IUB Agriculture Farm. | Additional IG Police South Punjab Visits IUB. | MD Pakistan Bait ul Mal Visits IUB.Read moreAllRead more\\n\\nFaculties\\n\\nFaculty of Law\\n\\nFaculty of Education\\n\\nFaculty of Chemical & Biological Sciences\\n\\nFaculty of Physical & Mathematical Sciences\\n\\nFaculty of Management Sciences and Commerce\\n\\nFaculty of Computing\\n\\nFaculty of Social sciences\\n\\nFaculty of Pharmacy\\n\\nFaculty of Islamic and Arabic Studies\\n\\nFaculty of Arts and Languages\\n\\nFaculty of Engineering\\n\\nFaculty of Veterinary and Animal Sciences\\n\\nFaculty of Agriculture and Environment\\n\\nFaculty of Medicine and Allied Health Sciences\\n\\nFaculty of Online and Distance Education\\n\\nFaculty of Engineering & Technology\\n\\nDean’s Message\\n\\nThe University College of Engineering & Technology (UCET) was established in 1999 as a constituent college of The Islamia University of Bahawalpur that acquired the status of Faculty of Engineering in 2019. The objective of the faculty is to provide cutting edge engineering education for the aspiring young students of the country in general and for the students of Southern Punjab in particular. The faculty provides excellent technical & engineering education while keeping in view the overall growth and development of the students in mind.\\n\\nThe University College of Engineering & Technology (UCET) was established in 1999 as a constituent college of The Islamia University of Bahawalpur that acquired the status of Faculty of Engineering in 2019. The objective of the faculty is to provide cutting edge engineering education for the aspiring young students of the country in general and for the students of Southern Punjab in particular. The faculty provides excellent technical & engineering education while keeping in view the overall growth and development of the students in mind.\\n\\nThe faculty is offering undergraduate degree in Electronic, Computer Systems, Electrical (power), Electrical (Communication) and Civil engineering disciplines. The faculty is also offering master's degree in electronic, computer systems and electrical engineering. \\xa0PhD engineering program has been launched in 2019. Recently, PC-1 for establishment of Mechanical Engineering department has been approved by HEC. \\xa0All undergraduate engineering programs are accredited by the Pakistan Engineering Council (PEC).\\n\\nThere are 62 faculty members (majority of them are PhDs) engaged in teaching around 800 students in both undergraduate and graduate engineering programs. The faculty members are well-trained, highly motivated and committed to the provision of quality education and excellence to the students. The faculty has excellent infrastructure comprising of well-equipped state of the art laboratories, spacious air-conditioned classrooms, well stocked library with more than 40,000 engineering books and latest computing labs equipped with more than 400 modern computers and multimedia facilities in all labs and classrooms. Engineers, after getting their degrees from this institution are playing pivotal role in leading the nation in the 21st century.\\n\\nVision:\\n\\nTo transform faculty of engineering into a regional center of excellence in knowledge, research, and innovation, contributing towards Pakistan's long-term socio-economic development goals.\\n\\nMission:\\n\\nThe faculty of engineering aspires to achieve academic excellence through the continual pursuit of education, learning, research, and skill development to serve the national interests and to negotiate the critical socio-economic needs of the region. The faculty aims at inspiring the students to acquire leadership and social skills to shape the unparalleled progressive entrepreneur culture.\\n\\nProgram Learning Outcomes (PLOs)\\n\\nProgram Learning Outcomes (PLOs)\\n\\nThe Faculty of Engineering has adopted following PLOs for all engineering Programs:\\n\\n1-\\xa0\\xa0 \\xa0Engineering Knowledge: An ability to apply knowledge of mathematics, science, engineering fundamentals and an engineering \\xa0\\xa0 \\xa0specialization to the solution of complex engineering problems.\\n\\n2-\\xa0\\xa0 \\xa0Problem Analysis: An ability to identify, formulate, research literature, and analyze complex engineering problems reaching \\xa0\\xa0 \\xa0substantiated conclusions using first principles of mathematics, natural sciences and engineering sciences.\\n\\n3-\\xa0\\xa0 \\xa0Design/Development of Solutions: An ability to design solutions for complex engineering problems and design systems, \\xa0\\xa0 \\xa0\\xa0\\xa0 \\xa0components or processes that meet specified needs with appropriate consideration for public health and safety, cultural,\\xa0\\xa0 \\xa0\\xa0\\xa0 \\xa0societal, and environmental considerations.\\n\\n4-\\xa0\\xa0 \\xa0Investigation: An ability to investigate complex engineering problems in a methodical way including literature survey, design \\xa0\\xa0 \\xa0and conduct of experiments, analysis and interpretation of experimental data, and synthesis of information to derive valid \\xa0\\xa0 \\xa0\\xa0\\xa0 \\xa0conclusions.\\n\\n5-\\xa0\\xa0 \\xa0Modern Tool Usage: An ability to create, select and apply appropriate techniques, resources, and modern engineering and IT \\xa0\\xa0 \\xa0tools, including prediction and modeling, to complex engineering activities, with an understanding of the limitations.\\n\\n6-\\xa0\\xa0 \\xa0The Engineer and Society: An ability to apply reasoning informed by contextual knowledge to assess societal, health, safety, \\xa0\\xa0 \\xa0legal and cultural issues and the consequent responsibilities relevant to professional engineering practice and solution to \\xa0\\xa0 \\xa0\\xa0\\xa0 \\xa0complex engineering problems.\\n\\n7-\\xa0\\xa0 \\xa0Environment and Sustainability: An ability to understand the impact of professional engineering solutions in societal and \\xa0\\xa0 \\xa0\\xa0\\xa0 \\xa0environmental contexts and demonstrate knowledge of and need for sustainable development.\\n\\n8-\\xa0\\xa0 \\xa0Ethics: Apply ethical principles and commit to professional ethics and responsibilities and norms of engineering practice.\\n\\n9-\\xa0\\xa0 \\xa0Individual and Team Work: An ability to work effectively, as an individual or in a team, on multifaceted and /or \\xa0\\xa0 \\xa0\\xa0\\xa0 \\xa0\\xa0\\xa0 \\xa0multidisciplinary settings.\\n\\n10-\\xa0\\xa0 \\xa0Communication: An ability to communicate effectively, orally as well as in writing, on complex engineering activities with the \\xa0\\xa0 \\xa0engineering community and with society at large, such as being able to comprehend and write effective reports and design \\xa0\\xa0 \\xa0documentation, make effective presentations, and give and receive clear instructions.\\n\\n11-\\xa0\\xa0 \\xa0Project Management: An ability to demonstrate management skills and apply engineering principles to one's own work, as a \\xa0\\xa0 \\xa0member and/or leader in a team, to manage projects in a multidisciplinary environment.\\n\\n12-\\xa0\\xa0 \\xa0Lifelong Learning: Ability to recognize importance of, and pursue lifelong learning in the broader context of innovation \\xa0\\xa0 \\xa0and technological developments.\\n\\nProf. Dr. Muhammad Amjad\\n\\nDean\\n\\nDepartments / Institutes\\n\\nDepartment of Information and Communication Engineering\\n\\nDepartment of Electronics Engineering\\n\\nDepartment of Civil Engineering\\n\\nDepartment of Computer Systems Engineering\\n\\nDepartment of Electrical Engineering\\n\\nCenter of Renewable Energy System\\n\\nDepartment of Architecture\\n\\nDepartment of Aviation Sciences and Technology\\n\\nSir Sadiq Institute of Technology\\n\\nVideo Gallery\\n\\nOfficial Youtube Channel The Islamia University of Bahawalpur, Pakistan\\n\\nQuick Links\\n\\nFaq's\\n\\nDownloads\\n\\nQuick Links\\n\\nTerms of Use\\n\\nRules & Regulations\\n\\nHEC Policy Guidelines\\n\\nJoin IUB Alumni Network\\n\\nIUB Student Societies\\n\\nPlagiarism\\n\\nGet In Touch\\n\\nAddress: Registrar Office, Abbasia Campus, University Chowk, Bahawalpur.\\n\\nPhone: +92 - 62 - 9250235\\n\\nHelpline Center: 03469255555, 03479255555, +92-62-9255580\\n\\nEmail: info@iub.edu.pk\\n\\nSOCIAL MEDIA | MY IUB APP\\n\\n© 2023 The Islamia University of Bahawalpur iub.edu.pk.\", metadata={'source': 'https://iub.edu.pk/faculty-of-engineering-technology'})"
      ]
     },
     "execution_count": 14,
     "metadata": {},
     "output_type": "execute_result"
    }
   ],
   "source": [
    "docs_not_splitted[0]"
   ]
  },
  {
   "cell_type": "code",
   "execution_count": 17,
   "metadata": {},
   "outputs": [
    {
     "name": "stderr",
     "output_type": "stream",
     "text": [
      "Created a chunk of size 596, which is longer than the specified 500\n",
      "Created a chunk of size 807, which is longer than the specified 500\n",
      "Created a chunk of size 707, which is longer than the specified 500\n",
      "Created a chunk of size 544, which is longer than the specified 500\n",
      "Created a chunk of size 544, which is longer than the specified 500\n",
      "Created a chunk of size 510, which is longer than the specified 500\n",
      "Created a chunk of size 744, which is longer than the specified 500\n",
      "Created a chunk of size 596, which is longer than the specified 500\n",
      "Created a chunk of size 807, which is longer than the specified 500\n",
      "Created a chunk of size 707, which is longer than the specified 500\n",
      "Created a chunk of size 717, which is longer than the specified 500\n",
      "Created a chunk of size 717, which is longer than the specified 500\n",
      "Created a chunk of size 700, which is longer than the specified 500\n",
      "Created a chunk of size 747, which is longer than the specified 500\n",
      "Created a chunk of size 596, which is longer than the specified 500\n",
      "Created a chunk of size 807, which is longer than the specified 500\n",
      "Created a chunk of size 707, which is longer than the specified 500\n",
      "Created a chunk of size 596, which is longer than the specified 500\n",
      "Created a chunk of size 807, which is longer than the specified 500\n",
      "Created a chunk of size 707, which is longer than the specified 500\n",
      "Created a chunk of size 596, which is longer than the specified 500\n",
      "Created a chunk of size 807, which is longer than the specified 500\n",
      "Created a chunk of size 707, which is longer than the specified 500\n",
      "Created a chunk of size 2302, which is longer than the specified 500\n",
      "Created a chunk of size 780, which is longer than the specified 500\n",
      "Created a chunk of size 542, which is longer than the specified 500\n",
      "Created a chunk of size 596, which is longer than the specified 500\n",
      "Created a chunk of size 807, which is longer than the specified 500\n",
      "Created a chunk of size 707, which is longer than the specified 500\n",
      "Created a chunk of size 4154, which is longer than the specified 500\n",
      "Created a chunk of size 596, which is longer than the specified 500\n",
      "Created a chunk of size 807, which is longer than the specified 500\n",
      "Created a chunk of size 707, which is longer than the specified 500\n",
      "Created a chunk of size 590, which is longer than the specified 500\n",
      "Created a chunk of size 501, which is longer than the specified 500\n"
     ]
    }
   ],
   "source": [
    "text_splitter = CharacterTextSplitter(chunk_size=500, chunk_overlap=0)\n",
    "docs = text_splitter.split_documents(docs_not_splitted)"
   ]
  },
  {
   "cell_type": "code",
   "execution_count": 18,
   "metadata": {},
   "outputs": [
    {
     "data": {
      "text/plain": [
       "152"
      ]
     },
     "execution_count": 18,
     "metadata": {},
     "output_type": "execute_result"
    }
   ],
   "source": [
    "len(docs)"
   ]
  },
  {
   "cell_type": "code",
   "execution_count": 19,
   "metadata": {},
   "outputs": [
    {
     "data": {
      "text/plain": [
       "Document(page_content='About\\n\\nAbout University\\n\\nBahawalpur - The City\\n\\nVice Chancellor Message\\n\\nVision & Mission\\n\\nRankings\\n\\nGovernance\\n\\nFormer Vice Chancellors\\n\\nNotable Alumni\\n\\nAdministration\\n\\nVice Chancellor Office\\n\\nRegistrar Office\\n\\nAccounts Division\\n\\nAudit Division\\n\\nDirectorate of Outreach, Communications and Public Relations\\n\\nDirectorate of IT\\n\\nDirectorate of Engineering\\n\\nDirectorate of Academics\\n\\nDirectorate of Affiliation\\n\\nDirectorate of Alumni Affairs\\n\\nDirectorate of AS&RB', metadata={'source': 'https://iub.edu.pk/faculty-of-engineering-technology'})"
      ]
     },
     "execution_count": 19,
     "metadata": {},
     "output_type": "execute_result"
    }
   ],
   "source": [
    "docs[0]"
   ]
  },
  {
   "cell_type": "code",
   "execution_count": 20,
   "metadata": {},
   "outputs": [
    {
     "name": "stdout",
     "output_type": "stream",
     "text": [
      "Your Deep Lake dataset has been successfully created!\n"
     ]
    },
    {
     "name": "stderr",
     "output_type": "stream",
     "text": [
      "Creating 152 embeddings in 1 batches of size 152:: 100%|██████████| 1/1 [01:09<00:00, 69.84s/it]"
     ]
    },
    {
     "name": "stdout",
     "output_type": "stream",
     "text": [
      "Dataset(path='hub://abbasi07/langchain_course_customer_support', tensors=['text', 'metadata', 'embedding', 'id'])\n",
      "\n",
      "  tensor      htype       shape      dtype  compression\n",
      "  -------    -------     -------    -------  ------- \n",
      "   text       text      (152, 1)      str     None   \n",
      " metadata     json      (152, 1)      str     None   \n",
      " embedding  embedding  (152, 1536)  float32   None   \n",
      "    id        text      (152, 1)      str     None   \n"
     ]
    },
    {
     "name": "stderr",
     "output_type": "stream",
     "text": [
      "\n"
     ]
    },
    {
     "data": {
      "text/plain": [
       "['42e01fd9-2014-11ef-b871-e02e0bedc703',\n",
       " '42e01fda-2014-11ef-b5d0-e02e0bedc703',\n",
       " '42e01fdb-2014-11ef-89fc-e02e0bedc703',\n",
       " '42e01fdc-2014-11ef-a8c3-e02e0bedc703',\n",
       " '42e01fdd-2014-11ef-95c0-e02e0bedc703',\n",
       " '42e01fde-2014-11ef-9669-e02e0bedc703',\n",
       " '42e01fdf-2014-11ef-9089-e02e0bedc703',\n",
       " '42e01fe0-2014-11ef-9cdc-e02e0bedc703',\n",
       " '42e01fe1-2014-11ef-b07a-e02e0bedc703',\n",
       " '42e01fe2-2014-11ef-9dbf-e02e0bedc703',\n",
       " '42e01fe3-2014-11ef-a5a7-e02e0bedc703',\n",
       " '42e01fe4-2014-11ef-b016-e02e0bedc703',\n",
       " '42e01fe5-2014-11ef-899a-e02e0bedc703',\n",
       " '42e01fe6-2014-11ef-88a0-e02e0bedc703',\n",
       " '42e01fe7-2014-11ef-8a8e-e02e0bedc703',\n",
       " '42e01fe8-2014-11ef-847d-e02e0bedc703',\n",
       " '42e01fe9-2014-11ef-a209-e02e0bedc703',\n",
       " '42e01fea-2014-11ef-80bd-e02e0bedc703',\n",
       " '42e01feb-2014-11ef-9548-e02e0bedc703',\n",
       " '42e01fec-2014-11ef-8754-e02e0bedc703',\n",
       " '42e01fed-2014-11ef-b631-e02e0bedc703',\n",
       " '42e01fee-2014-11ef-aa25-e02e0bedc703',\n",
       " '42e01fef-2014-11ef-9cc2-e02e0bedc703',\n",
       " '42e01ff0-2014-11ef-b324-e02e0bedc703',\n",
       " '42e01ff1-2014-11ef-a5a7-e02e0bedc703',\n",
       " '42e01ff2-2014-11ef-8f7e-e02e0bedc703',\n",
       " '42e01ff3-2014-11ef-94bb-e02e0bedc703',\n",
       " '42e01ff4-2014-11ef-9af7-e02e0bedc703',\n",
       " '42e01ff5-2014-11ef-8801-e02e0bedc703',\n",
       " '42e01ff6-2014-11ef-b002-e02e0bedc703',\n",
       " '42e01ff7-2014-11ef-b231-e02e0bedc703',\n",
       " '42e01ff8-2014-11ef-9480-e02e0bedc703',\n",
       " '42e01ff9-2014-11ef-9b1e-e02e0bedc703',\n",
       " '42e01ffa-2014-11ef-920d-e02e0bedc703',\n",
       " '42e01ffb-2014-11ef-b03e-e02e0bedc703',\n",
       " '42e01ffc-2014-11ef-ab96-e02e0bedc703',\n",
       " '42e01ffd-2014-11ef-a0b4-e02e0bedc703',\n",
       " '42e01ffe-2014-11ef-8f46-e02e0bedc703',\n",
       " '42e01fff-2014-11ef-84cf-e02e0bedc703',\n",
       " '42e02000-2014-11ef-9ef0-e02e0bedc703',\n",
       " '42e02001-2014-11ef-985e-e02e0bedc703',\n",
       " '42e02002-2014-11ef-872d-e02e0bedc703',\n",
       " '42e02003-2014-11ef-8bb6-e02e0bedc703',\n",
       " '42e02004-2014-11ef-a8fc-e02e0bedc703',\n",
       " '42e02005-2014-11ef-aebd-e02e0bedc703',\n",
       " '42e02006-2014-11ef-a3cd-e02e0bedc703',\n",
       " '42e02007-2014-11ef-ab24-e02e0bedc703',\n",
       " '42e02008-2014-11ef-9a45-e02e0bedc703',\n",
       " '42e02009-2014-11ef-8063-e02e0bedc703',\n",
       " '42e0200a-2014-11ef-a5a9-e02e0bedc703',\n",
       " '42e0200b-2014-11ef-8bca-e02e0bedc703',\n",
       " '42e0200c-2014-11ef-886a-e02e0bedc703',\n",
       " '42e0200d-2014-11ef-85c6-e02e0bedc703',\n",
       " '42e0200e-2014-11ef-bc96-e02e0bedc703',\n",
       " '42e0200f-2014-11ef-9da5-e02e0bedc703',\n",
       " '42e02010-2014-11ef-bc7d-e02e0bedc703',\n",
       " '42e02011-2014-11ef-a6d1-e02e0bedc703',\n",
       " '42e02012-2014-11ef-a70c-e02e0bedc703',\n",
       " '42e02013-2014-11ef-9ba7-e02e0bedc703',\n",
       " '42e02014-2014-11ef-947f-e02e0bedc703',\n",
       " '42e02015-2014-11ef-96d5-e02e0bedc703',\n",
       " '42e02016-2014-11ef-a0d3-e02e0bedc703',\n",
       " '42e02017-2014-11ef-a38d-e02e0bedc703',\n",
       " '42e02018-2014-11ef-af3f-e02e0bedc703',\n",
       " '42e02019-2014-11ef-983d-e02e0bedc703',\n",
       " '42e0201a-2014-11ef-8b00-e02e0bedc703',\n",
       " '42e0201b-2014-11ef-8f83-e02e0bedc703',\n",
       " '42e0201c-2014-11ef-9d8e-e02e0bedc703',\n",
       " '42e0201d-2014-11ef-a369-e02e0bedc703',\n",
       " '42e0201e-2014-11ef-b6a7-e02e0bedc703',\n",
       " '42e0201f-2014-11ef-bfc4-e02e0bedc703',\n",
       " '42e02020-2014-11ef-a14a-e02e0bedc703',\n",
       " '42e02021-2014-11ef-a520-e02e0bedc703',\n",
       " '42e02022-2014-11ef-a730-e02e0bedc703',\n",
       " '42e02023-2014-11ef-a0a0-e02e0bedc703',\n",
       " '42e02024-2014-11ef-982e-e02e0bedc703',\n",
       " '42e02025-2014-11ef-8aff-e02e0bedc703',\n",
       " '42e02026-2014-11ef-8275-e02e0bedc703',\n",
       " '42e02027-2014-11ef-8f57-e02e0bedc703',\n",
       " '42e02028-2014-11ef-9c4b-e02e0bedc703',\n",
       " '42e02029-2014-11ef-9e19-e02e0bedc703',\n",
       " '42e0202a-2014-11ef-b2d0-e02e0bedc703',\n",
       " '42e0202b-2014-11ef-b7ab-e02e0bedc703',\n",
       " '42e0202c-2014-11ef-8f1f-e02e0bedc703',\n",
       " '42e0202d-2014-11ef-82e3-e02e0bedc703',\n",
       " '42e0202e-2014-11ef-bd38-e02e0bedc703',\n",
       " '42e0202f-2014-11ef-bf9a-e02e0bedc703',\n",
       " '42e02030-2014-11ef-ad0a-e02e0bedc703',\n",
       " '42e02031-2014-11ef-bf64-e02e0bedc703',\n",
       " '42e02032-2014-11ef-962c-e02e0bedc703',\n",
       " '42e02033-2014-11ef-a79b-e02e0bedc703',\n",
       " '42e02034-2014-11ef-8117-e02e0bedc703',\n",
       " '42e02035-2014-11ef-819e-e02e0bedc703',\n",
       " '42e02036-2014-11ef-8278-e02e0bedc703',\n",
       " '42e02037-2014-11ef-8c4a-e02e0bedc703',\n",
       " '42e02038-2014-11ef-bc32-e02e0bedc703',\n",
       " '42e02039-2014-11ef-9623-e02e0bedc703',\n",
       " '42e0203a-2014-11ef-9280-e02e0bedc703',\n",
       " '42e0203b-2014-11ef-a70e-e02e0bedc703',\n",
       " '42e0203c-2014-11ef-9f29-e02e0bedc703',\n",
       " '42e0203d-2014-11ef-9245-e02e0bedc703',\n",
       " '42e0203e-2014-11ef-95f7-e02e0bedc703',\n",
       " '42e0203f-2014-11ef-be11-e02e0bedc703',\n",
       " '42e02040-2014-11ef-b604-e02e0bedc703',\n",
       " '42e02041-2014-11ef-8002-e02e0bedc703',\n",
       " '42e02042-2014-11ef-b753-e02e0bedc703',\n",
       " '42e02043-2014-11ef-8022-e02e0bedc703',\n",
       " '42e02044-2014-11ef-8d49-e02e0bedc703',\n",
       " '42e02045-2014-11ef-9ce8-e02e0bedc703',\n",
       " '42e02046-2014-11ef-a04d-e02e0bedc703',\n",
       " '42e02047-2014-11ef-a33b-e02e0bedc703',\n",
       " '42e02048-2014-11ef-b175-e02e0bedc703',\n",
       " '42e02049-2014-11ef-8a2d-e02e0bedc703',\n",
       " '42e0204a-2014-11ef-89e2-e02e0bedc703',\n",
       " '42e0204b-2014-11ef-ac6e-e02e0bedc703',\n",
       " '42e0204c-2014-11ef-a911-e02e0bedc703',\n",
       " '42e0204d-2014-11ef-abe8-e02e0bedc703',\n",
       " '42e0204e-2014-11ef-afbb-e02e0bedc703',\n",
       " '42e0204f-2014-11ef-81e2-e02e0bedc703',\n",
       " '42e02050-2014-11ef-8ad5-e02e0bedc703',\n",
       " '42e02051-2014-11ef-8c33-e02e0bedc703',\n",
       " '42e02052-2014-11ef-ad2f-e02e0bedc703',\n",
       " '42e02053-2014-11ef-b393-e02e0bedc703',\n",
       " '42e02054-2014-11ef-ba34-e02e0bedc703',\n",
       " '42e02055-2014-11ef-be09-e02e0bedc703',\n",
       " '42e02056-2014-11ef-9d47-e02e0bedc703',\n",
       " '42e02057-2014-11ef-890d-e02e0bedc703',\n",
       " '42e02058-2014-11ef-a329-e02e0bedc703',\n",
       " '42e02059-2014-11ef-ad2e-e02e0bedc703',\n",
       " '42e0205a-2014-11ef-b225-e02e0bedc703',\n",
       " '42e0205b-2014-11ef-bb5d-e02e0bedc703',\n",
       " '42e0205c-2014-11ef-baf2-e02e0bedc703',\n",
       " '42e0205d-2014-11ef-be73-e02e0bedc703',\n",
       " '42e0205e-2014-11ef-a20b-e02e0bedc703',\n",
       " '42e0205f-2014-11ef-ac37-e02e0bedc703',\n",
       " '42e02060-2014-11ef-b003-e02e0bedc703',\n",
       " '42e02061-2014-11ef-81e9-e02e0bedc703',\n",
       " '42e02062-2014-11ef-9de6-e02e0bedc703',\n",
       " '42e02063-2014-11ef-8624-e02e0bedc703',\n",
       " '42e02064-2014-11ef-8738-e02e0bedc703',\n",
       " '42e02065-2014-11ef-bc3f-e02e0bedc703',\n",
       " '42e02066-2014-11ef-880e-e02e0bedc703',\n",
       " '42e02067-2014-11ef-8ad6-e02e0bedc703',\n",
       " '42e02068-2014-11ef-9453-e02e0bedc703',\n",
       " '42e02069-2014-11ef-8c50-e02e0bedc703',\n",
       " '42e0206a-2014-11ef-90e5-e02e0bedc703',\n",
       " '42e0206b-2014-11ef-8ea5-e02e0bedc703',\n",
       " '42e0206c-2014-11ef-b516-e02e0bedc703',\n",
       " '42e0206d-2014-11ef-a6c8-e02e0bedc703',\n",
       " '42e0206e-2014-11ef-9b5f-e02e0bedc703',\n",
       " '42e0206f-2014-11ef-a3c7-e02e0bedc703',\n",
       " '42e02070-2014-11ef-9fdd-e02e0bedc703']"
      ]
     },
     "execution_count": 20,
     "metadata": {},
     "output_type": "execute_result"
    }
   ],
   "source": [
    "# Create document embeddings and store them in deeplake\n",
    "embeddings = OpenAIEmbeddings(model=\"text-embedding-ada-002\")\n",
    "\n",
    "my_activeloop_org_id = \"abbasi07\"\n",
    "my_activeloop_dataset_name = \"langchain_course_customer_support\"\n",
    "dataset_path = f\"hub://{my_activeloop_org_id}/{my_activeloop_dataset_name}\"\n",
    "db = DeepLake(dataset_path=dataset_path, embedding_function=embeddings)\n",
    "\n",
    "db.add_documents(docs)"
   ]
  },
  {
   "cell_type": "code",
   "execution_count": 23,
   "metadata": {},
   "outputs": [
    {
     "name": "stdout",
     "output_type": "stream",
     "text": [
      "Faculty of Online and Distance Education\n",
      "\n",
      "Faculty of Engineering & Technology\n",
      "\n",
      "Dean’s Message\n"
     ]
    }
   ],
   "source": [
    "# Ask questions\n",
    "query = \"Who is the dean of faculty of engineering?\"\n",
    "\n",
    "docs = db.similarity_search(query)\n",
    "\n",
    "print(docs[0].page_content)"
   ]
  },
  {
   "cell_type": "code",
   "execution_count": 24,
   "metadata": {},
   "outputs": [],
   "source": [
    "template = \"\"\"You are an exceptional student support chatbot that gently answer questions.\n",
    "\n",
    "You know the following context information.\n",
    "\n",
    "{chunks_formatted}\n",
    "\n",
    "Answer to the following question from a student or university website visitor. Use only information from the previous context information. Do not invent stuff.\n",
    "\n",
    "Question: {query}\n",
    "\n",
    "Answer:\"\"\"\n",
    "\n",
    "prompt = PromptTemplate(\n",
    "    input_variables=[\"chunks_formatted\", \"query\"],\n",
    "    template=template,\n",
    ")"
   ]
  },
  {
   "cell_type": "code",
   "execution_count": 26,
   "metadata": {},
   "outputs": [
    {
     "name": "stdout",
     "output_type": "stream",
     "text": [
      " The Electronic Engineering Department at the Faculty of Online and Distance Education offers a comprehensive curriculum that prepares students for a successful career in the industry. The curriculum includes courses in various areas such as circuit design, digital systems, communication systems, and signal processing. In addition, the department also offers workshops and counseling sessions to help students develop important skills such as interview techniques, resume writing, and job search techniques. The department also has strong ties with the industry, providing students with opportunities for industrial exposure and job placement through open houses and final year project displays. This continuous process, along with the support of the Alumni chapter, has resulted in a high rate of job placement for students at the university.\n"
     ]
    }
   ],
   "source": [
    "# Use LLM to answer questions\n",
    "query = \"Briefly describe the curriculum of electronic engineering?\"\n",
    "\n",
    "docs = db.similarity_search(query)\n",
    "retrieved_chunks = [doc.page_content for doc in docs]\n",
    "\n",
    "chunks_formatted = \"\\n\\n\".join(retrieved_chunks)\n",
    "prompt_formatted = prompt.format(chunks_formatted=chunks_formatted, query=query)\n",
    "\n",
    "llm= OpenAI(model=\"gpt-3.5-turbo-instruct\", temperature=0)\n",
    "\n",
    "answer = llm(prompt_formatted)\n",
    "\n",
    "print(answer)"
   ]
  },
  {
   "cell_type": "code",
   "execution_count": null,
   "metadata": {},
   "outputs": [],
   "source": []
  }
 ],
 "metadata": {
  "kernelspec": {
   "display_name": "LC_env",
   "language": "python",
   "name": "python3"
  },
  "language_info": {
   "codemirror_mode": {
    "name": "ipython",
    "version": 3
   },
   "file_extension": ".py",
   "mimetype": "text/x-python",
   "name": "python",
   "nbconvert_exporter": "python",
   "pygments_lexer": "ipython3",
   "version": "3.12.3"
  }
 },
 "nbformat": 4,
 "nbformat_minor": 2
}
